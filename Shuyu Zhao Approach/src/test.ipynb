{
 "cells": [
  {
   "cell_type": "code",
   "execution_count": 1,
   "metadata": {
    "collapsed": true,
    "pycharm": {
     "is_executing": false
    }
   },
   "outputs": [],
   "source": [
    "from src import linear_model\n",
    "import tensorflow.compat.v1 as tf\n",
    "from pathlib import Path\n",
    "import os\n",
    "\n",
    "SUMMARY_DIR = '..\\\\experiments\\\\All\\\\dropout_0.5\\\\epochs_200\\\\lr_0.001\\\\residual\\\\depth_2\\\\linear_size1024\\\\batch_size_64\\\\no_procrustes\\\\maxnorm\\\\batch_normalization\\\\use_stacked_hourglass\\\\predict_17\\\\log'\n",
    "TRAIN_DIR = Path(SUMMARY_DIR).parent\n",
    "tf.disable_eager_execution()"
   ]
  },
  {
   "cell_type": "code",
   "execution_count": 2,
   "outputs": [],
   "source": [
    "sess = tf.Session()"
   ],
   "metadata": {
    "collapsed": false,
    "pycharm": {
     "name": "#%%\n",
     "is_executing": false
    }
   }
  },
  {
   "cell_type": "code",
   "execution_count": 3,
   "outputs": [
    {
     "name": "stdout",
     "text": [
      "WARNING:tensorflow:From d:\\pycharmprojects\\803-pos-estimation\\venv\\lib\\site-packages\\tensorflow_core\\python\\ops\\resource_variable_ops.py:1630: calling BaseResourceVariable.__init__ (from tensorflow.python.ops.resource_variable_ops) with constraint is deprecated and will be removed in a future version.\nInstructions for updating:\nIf using Keras pass *_constraint arguments to layers.\n",
      "WARNING:tensorflow:From D:\\PycharmProjects\\803-pos-estimation\\src\\linear_model.py:129: batch_normalization (from tensorflow.python.layers.normalization) is deprecated and will be removed in a future version.\nInstructions for updating:\nUse keras.layers.BatchNormalization instead.  In particular, `tf.control_dependencies(tf.GraphKeys.UPDATE_OPS)` should not be used (consult the `tf.keras.layers.batch_normalization` documentation).\n",
      "WARNING:tensorflow:From d:\\pycharmprojects\\803-pos-estimation\\venv\\lib\\site-packages\\tensorflow_core\\python\\layers\\normalization.py:327: Layer.apply (from tensorflow.python.keras.engine.base_layer) is deprecated and will be removed in a future version.\nInstructions for updating:\nPlease use `layer.__call__` method instead.\n",
      "WARNING:tensorflow:From D:\\PycharmProjects\\803-pos-estimation\\src\\linear_model.py:132: calling dropout (from tensorflow.python.ops.nn_ops) with keep_prob is deprecated and will be removed in a future version.\nInstructions for updating:\nPlease use `rate` instead of `keep_prob`. Rate should be set to `rate = 1 - keep_prob`.\n",
      "Loading model checkpoint-4874200\nINFO:tensorflow:Restoring parameters from ..\\experiments\\All\\dropout_0.5\\epochs_200\\lr_0.001\\residual\\depth_2\\linear_size1024\\batch_size_64\\no_procrustes\\maxnorm\\batch_normalization\\use_stacked_hourglass\\predict_17\\checkpoint-4874200\n"
     ],
     "output_type": "stream"
    }
   ],
   "source": [
    "def create_model(sess, batch_size, load:int=0):\n",
    "    \"\"\"\n",
    "  Create model and initialize it or load its parameters in a session\n",
    "\n",
    "  Args\n",
    "    session: tensorflow session\n",
    "    actions: list of string. Actions to train/test on\n",
    "    batch_size: integer. Number of examples in each batch\n",
    "  Returns\n",
    "    model: The created (or loaded) model\n",
    "  Raises\n",
    "    ValueError if asked to load a model, but the checkpoint specified by\n",
    "    FLAGS.load cannot be found.\n",
    "  \"\"\"\n",
    "\n",
    "    model = linear_model.LinearModel(\n",
    "        1024,\n",
    "        2,\n",
    "        True,\n",
    "        True,\n",
    "        True,\n",
    "        batch_size,\n",
    "        1e-3,\n",
    "        SUMMARY_DIR,\n",
    "        False,\n",
    "        dtype=tf.float32,\n",
    "    )\n",
    "\n",
    "    # Load a previously saved model\n",
    "    ckpt = tf.train.get_checkpoint_state(str(TRAIN_DIR), latest_filename=\"checkpoint\")\n",
    "\n",
    "\n",
    "    if ckpt and ckpt.model_checkpoint_path:\n",
    "        # Check if the specific checkpoint exists\n",
    "        if load > 0:\n",
    "            if os.path.isfile(\n",
    "                os.path.join(TRAIN_DIR, \"checkpoint-{0}.index\".format(load))\n",
    "            ):\n",
    "                ckpt_name = os.path.join(\n",
    "                    os.path.join(str(TRAIN_DIR), \"checkpoint-{0}\".format(load))\n",
    "                )\n",
    "            else:\n",
    "                raise ValueError(\n",
    "                    \"Asked to load checkpoint {0}, but it does not seem to exist\".format(\n",
    "                        load\n",
    "                    )\n",
    "                )\n",
    "        else:\n",
    "            ckpt_name = os.path.basename(ckpt.model_checkpoint_path)\n",
    "\n",
    "        print(\"Loading model {0}\".format(ckpt_name))\n",
    "        model.saver.restore(sess, ckpt.model_checkpoint_path)\n",
    "        return model\n",
    "    else:\n",
    "        print(\"Could not find checkpoint. Aborting.\")\n",
    "        raise (\n",
    "            ValueError,\n",
    "            \"Checkpoint {0} does not seem to exist\".format(ckpt.model_checkpoint_path),\n",
    "        )\n",
    "\n",
    "model = create_model(sess, 64)"
   ],
   "metadata": {
    "collapsed": false,
    "pycharm": {
     "name": "#%%\n",
     "is_executing": false
    }
   }
  },
  {
   "cell_type": "code",
   "execution_count": 4,
   "outputs": [
    {
     "traceback": [
      "\u001b[1;31m---------------------------------------------------------------------------\u001b[0m",
      "\u001b[1;31mAttributeError\u001b[0m                            Traceback (most recent call last)",
      "\u001b[1;32m<ipython-input-4-f6f4f6422603>\u001b[0m in \u001b[0;36m<module>\u001b[1;34m\u001b[0m\n\u001b[1;32m----> 1\u001b[1;33m \u001b[0mmodel\u001b[0m\u001b[1;33m.\u001b[0m\u001b[0msummary\u001b[0m\u001b[1;33m(\u001b[0m\u001b[1;33m)\u001b[0m\u001b[1;33m\u001b[0m\u001b[1;33m\u001b[0m\u001b[0m\n\u001b[0m\u001b[0;32m      2\u001b[0m \u001b[1;33m\u001b[0m\u001b[0m\n\u001b[0;32m      3\u001b[0m \u001b[1;33m\u001b[0m\u001b[0m\n",
      "\u001b[1;31mAttributeError\u001b[0m: 'LinearModel' object has no attribute 'summary'"
     ],
     "ename": "AttributeError",
     "evalue": "'LinearModel' object has no attribute 'summary'",
     "output_type": "error"
    }
   ],
   "source": [
    "model.summary()\n"
   ],
   "metadata": {
    "collapsed": false,
    "pycharm": {
     "name": "#%%\n",
     "is_executing": false
    }
   }
  },
  {
   "cell_type": "code",
   "execution_count": 4,
   "outputs": [],
   "source": [
    "sess.close()"
   ],
   "metadata": {
    "collapsed": false,
    "pycharm": {
     "name": "#%%\n",
     "is_executing": false
    }
   }
  }
 ],
 "metadata": {
  "kernelspec": {
   "name": "python3",
   "language": "python",
   "display_name": "Python 3"
  },
  "language_info": {
   "codemirror_mode": {
    "name": "ipython",
    "version": 2
   },
   "file_extension": ".py",
   "mimetype": "text/x-python",
   "name": "python",
   "nbconvert_exporter": "python",
   "pygments_lexer": "ipython2",
   "version": "2.7.6"
  },
  "pycharm": {
   "stem_cell": {
    "cell_type": "raw",
    "source": [],
    "metadata": {
     "collapsed": false
    }
   }
  }
 },
 "nbformat": 4,
 "nbformat_minor": 0
}